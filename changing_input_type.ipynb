{
 "cells": [
  {
   "cell_type": "markdown",
   "metadata": {},
   "source": [
    "# Importações"
   ]
  },
  {
   "cell_type": "code",
   "execution_count": 1,
   "metadata": {},
   "outputs": [],
   "source": [
    "import csv, json"
   ]
  },
  {
   "cell_type": "markdown",
   "metadata": {},
   "source": [
    "# Convertendo as Bases de Dados"
   ]
  },
  {
   "cell_type": "markdown",
   "metadata": {},
   "source": [
    "Convertendo sp-dataset.csv para sp-dataset.json:"
   ]
  },
  {
   "cell_type": "code",
   "execution_count": 2,
   "metadata": {},
   "outputs": [],
   "source": [
    "cont = 0\n",
    "data = {}\n",
    "\n",
    "with open('datasets/sp-dataset.csv') as csvInput:\n",
    "    csvReader = csv.DictReader(csvInput)\n",
    "    for rows in csvReader:\n",
    "        data[cont] = rows\n",
    "        cont = cont + 1\n",
    "\n",
    "with open('input/sp-dataset.json', 'w') as json_file:\n",
    "    json_file.write(json.dumps(data, indent=4))"
   ]
  },
  {
   "cell_type": "markdown",
   "metadata": {},
   "source": [
    "Convertendo pe-dataset.csv para pe-dataset.json:"
   ]
  },
  {
   "cell_type": "code",
   "execution_count": 3,
   "metadata": {},
   "outputs": [],
   "source": [
    "cont = 0\n",
    "data = {}\n",
    "\n",
    "with open('datasets/pe-dataset.csv') as csvInput:\n",
    "    csvReader = csv.DictReader(csvInput)\n",
    "    for rows in csvReader:\n",
    "        data[cont] = rows\n",
    "        cont = cont + 1\n",
    "\n",
    "with open('input/pe-dataset.json', 'w') as json_file:\n",
    "    json_file.write(json.dumps(data, indent=4))"
   ]
  },
  {
   "cell_type": "markdown",
   "metadata": {},
   "source": [
    "# Visualizando o Novo Formato de Entrada"
   ]
  },
  {
   "cell_type": "code",
   "execution_count": 4,
   "metadata": {},
   "outputs": [],
   "source": [
    "with open('input/sp-dataset.json') as file:\n",
    "    sp_dataset = json.load(file)\n",
    "    \n",
    "with open('input/pe-dataset.json') as file:\n",
    "    pe_dataset = json.load(file)"
   ]
  },
  {
   "cell_type": "code",
   "execution_count": 5,
   "metadata": {},
   "outputs": [
    {
     "data": {
      "text/plain": [
       "{'panel_info': '4cbaaf2d63e84cbe8f805fc305552393',\n",
       " 'panel_eplet': '102H',\n",
       " 'locus_abc': '1',\n",
       " 'locus_dr': '0',\n",
       " 'locus_dq': '0',\n",
       " 'locus_dp': '0',\n",
       " 'panel_nc': '138',\n",
       " 'panel_pc': '12707',\n",
       " 'panel_allele_count': '1',\n",
       " 'panel_min_mfi': '0',\n",
       " 'panel_max_mfi': '0',\n",
       " 'reactive': '0'}"
      ]
     },
     "execution_count": 5,
     "metadata": {},
     "output_type": "execute_result"
    }
   ],
   "source": [
    "sp_dataset['0']"
   ]
  },
  {
   "cell_type": "code",
   "execution_count": 6,
   "metadata": {},
   "outputs": [
    {
     "data": {
      "text/plain": [
       "{'panel_info': '0dfaab7bd101edb0c413798f4d19e9a1',\n",
       " 'panel_eplet': '102H',\n",
       " 'locus_abc': '1',\n",
       " 'locus_dr': '0',\n",
       " 'locus_dq': '0',\n",
       " 'locus_dp': '0',\n",
       " 'panel_nc': '126',\n",
       " 'panel_pc': '10803',\n",
       " 'panel_allele_count': '1',\n",
       " 'panel_min_mfi': '483',\n",
       " 'panel_max_mfi': '483',\n",
       " 'reactive': '0'}"
      ]
     },
     "execution_count": 6,
     "metadata": {},
     "output_type": "execute_result"
    }
   ],
   "source": [
    "pe_dataset['0']"
   ]
  }
 ],
 "metadata": {
  "kernelspec": {
   "display_name": "Python 3",
   "language": "python",
   "name": "python3"
  },
  "language_info": {
   "codemirror_mode": {
    "name": "ipython",
    "version": 3
   },
   "file_extension": ".py",
   "mimetype": "text/x-python",
   "name": "python",
   "nbconvert_exporter": "python",
   "pygments_lexer": "ipython3",
   "version": "3.7.3"
  }
 },
 "nbformat": 4,
 "nbformat_minor": 2
}
